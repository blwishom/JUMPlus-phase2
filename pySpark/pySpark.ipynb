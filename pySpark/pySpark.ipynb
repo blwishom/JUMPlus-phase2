{
 "cells": [
  {
   "cell_type": "code",
   "execution_count": 1,
   "metadata": {},
   "outputs": [
    {
     "name": "stdout",
     "output_type": "stream",
     "text": [
      "\n",
      "\u001b[1m[\u001b[0m\u001b[34;49mnotice\u001b[0m\u001b[1;39;49m]\u001b[0m\u001b[39;49m A new release of pip is available: \u001b[0m\u001b[31;49m23.1\u001b[0m\u001b[39;49m -> \u001b[0m\u001b[32;49m23.1.2\u001b[0m\n",
      "\u001b[1m[\u001b[0m\u001b[34;49mnotice\u001b[0m\u001b[1;39;49m]\u001b[0m\u001b[39;49m To update, run: \u001b[0m\u001b[32;49mpip install --upgrade pip\u001b[0m\n"
     ]
    }
   ],
   "source": [
    "!pip install -q pyspark"
   ]
  },
  {
   "cell_type": "code",
   "execution_count": 2,
   "metadata": {},
   "outputs": [],
   "source": [
    "import pyspark"
   ]
  },
  {
   "cell_type": "code",
   "execution_count": 3,
   "metadata": {},
   "outputs": [
    {
     "name": "stderr",
     "output_type": "stream",
     "text": [
      "your 131072x1 screen size is bogus. expect trouble\n",
      "23/05/15 17:32:29 WARN Utils: Your hostname, DESKTOP-685S3TT resolves to a loopback address: 127.0.1.1; using 172.20.241.155 instead (on interface eth0)\n",
      "23/05/15 17:32:29 WARN Utils: Set SPARK_LOCAL_IP if you need to bind to another address\n",
      "Setting default log level to \"WARN\".\n",
      "To adjust logging level use sc.setLogLevel(newLevel). For SparkR, use setLogLevel(newLevel).\n",
      "23/05/15 17:32:32 WARN NativeCodeLoader: Unable to load native-hadoop library for your platform... using builtin-java classes where applicable\n"
     ]
    }
   ],
   "source": [
    "spark = pyspark.sql.SparkSession.builder.getOrCreate()"
   ]
  },
  {
   "attachments": {},
   "cell_type": "markdown",
   "metadata": {},
   "source": [
    "2 Data Structures:\n",
    "\n",
    "1. Resiliant Distributed Dataset (RDD)\n",
    "  - Low level\n",
    "  - List item\n",
    "  - Efficient but not as convenient as DFs\n",
    "  -Immutable\n",
    "  -Processed with Map, Filter, or Reduce\n",
    "  -Typically used to process linear data\n",
    "  - More difficult to use than DFs\n",
    "2. DataFrame"
   ]
  },
  {
   "cell_type": "code",
   "execution_count": 4,
   "metadata": {},
   "outputs": [
    {
     "name": "stdout",
     "output_type": "stream",
     "text": [
      "<class 'str'> the quick brown fox jumped over the lazy dogs\n",
      "<class 'list'> ['the', 'quick', 'brown', 'fox', 'jumped', 'over', 'the', 'lazy', 'dogs']\n"
     ]
    }
   ],
   "source": [
    "text = 'the quick brown fox jumped over the lazy dogs'\n",
    "lst = text.split()\n",
    "\n",
    "print(type(text), text)\n",
    "print(type(lst), lst)"
   ]
  },
  {
   "cell_type": "code",
   "execution_count": 5,
   "metadata": {},
   "outputs": [
    {
     "name": "stdout",
     "output_type": "stream",
     "text": [
      "<class 'pyspark.rdd.RDD'> ParallelCollectionRDD[0] at readRDDFromFile at PythonRDD.scala:287\n"
     ]
    },
    {
     "name": "stderr",
     "output_type": "stream",
     "text": [
      "[Stage 0:>                                                          (0 + 4) / 4]\r"
     ]
    },
    {
     "name": "stdout",
     "output_type": "stream",
     "text": [
      "<class 'list'>\n"
     ]
    },
    {
     "name": "stderr",
     "output_type": "stream",
     "text": [
      "                                                                                \r"
     ]
    }
   ],
   "source": [
    "text_rdd = spark.sparkContext.parallelize(text)\n",
    "print(type(text_rdd), text_rdd)\n",
    "print(type(text_rdd.collect()))"
   ]
  },
  {
   "cell_type": "code",
   "execution_count": 6,
   "metadata": {},
   "outputs": [
    {
     "name": "stdout",
     "output_type": "stream",
     "text": [
      "<class 'pyspark.rdd.RDD'> ParallelCollectionRDD[1] at readRDDFromFile at PythonRDD.scala:287\n",
      "<class 'list'>\n"
     ]
    }
   ],
   "source": [
    "lst_rdd = spark.sparkContext.parallelize(lst)\n",
    "print(type(lst_rdd), lst_rdd)\n",
    "print(type(lst_rdd.collect()))"
   ]
  },
  {
   "cell_type": "code",
   "execution_count": 7,
   "metadata": {},
   "outputs": [
    {
     "name": "stderr",
     "output_type": "stream",
     "text": [
      "                                                                                \r"
     ]
    },
    {
     "data": {
      "text/plain": [
       "['According to all known laws of aviation, there is no way a bee should be able to fly.',\n",
       " 'Its wings are too small to get its fat little body off the ground.',\n",
       " \"The bee, of course, flies anyway because bees don't care what humans think is impossible.\",\n",
       " 'Yellow, black. Yellow, black. Yellow, black. Yellow, black.',\n",
       " 'Ooh, black and yellow!',\n",
       " \"Let's shake it up a little.\",\n",
       " 'Barry! Breakfast is ready!',\n",
       " 'Coming!',\n",
       " 'Hang on a second.',\n",
       " 'Hello?']"
      ]
     },
     "execution_count": 7,
     "metadata": {},
     "output_type": "execute_result"
    }
   ],
   "source": [
    "rdd = spark.sparkContext.textFile('/home/blair/cognixia/AdvancedPhase/dirWithFiles/beemovie.txt')\n",
    "rdd.take(10)"
   ]
  },
  {
   "cell_type": "code",
   "execution_count": 8,
   "metadata": {},
   "outputs": [
    {
     "data": {
      "text/plain": [
       "1363"
      ]
     },
     "execution_count": 8,
     "metadata": {},
     "output_type": "execute_result"
    }
   ],
   "source": [
    "rdd.count() #returns the total number of lines"
   ]
  },
  {
   "cell_type": "code",
   "execution_count": 10,
   "metadata": {},
   "outputs": [
    {
     "name": "stderr",
     "output_type": "stream",
     "text": [
      "                                                                                \r"
     ]
    },
    {
     "data": {
      "text/plain": [
       "1302"
      ]
     },
     "execution_count": 10,
     "metadata": {},
     "output_type": "execute_result"
    }
   ],
   "source": [
    "rdd.distinct().count() #returns distinct number of lines"
   ]
  },
  {
   "cell_type": "code",
   "execution_count": 11,
   "metadata": {},
   "outputs": [
    {
     "data": {
      "text/plain": [
       "146"
      ]
     },
     "execution_count": 11,
     "metadata": {},
     "output_type": "execute_result"
    }
   ],
   "source": [
    "rdd.filter(lambda line: 'bee' in line.lower()).count()"
   ]
  }
 ],
 "metadata": {
  "kernelspec": {
   "display_name": "Python 3",
   "language": "python",
   "name": "python3"
  },
  "language_info": {
   "codemirror_mode": {
    "name": "ipython",
    "version": 3
   },
   "file_extension": ".py",
   "mimetype": "text/x-python",
   "name": "python",
   "nbconvert_exporter": "python",
   "pygments_lexer": "ipython3",
   "version": "3.9.4"
  },
  "orig_nbformat": 4
 },
 "nbformat": 4,
 "nbformat_minor": 2
}
