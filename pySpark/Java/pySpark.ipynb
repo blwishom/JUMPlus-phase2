{
 "cells": [
  {
   "cell_type": "code",
   "execution_count": null,
   "metadata": {},
   "outputs": [],
   "source": [
    "!pip install -q pyspark"
   ]
  },
  {
   "cell_type": "code",
   "execution_count": null,
   "metadata": {},
   "outputs": [],
   "source": [
    "import pyspark"
   ]
  },
  {
   "cell_type": "code",
   "execution_count": null,
   "metadata": {},
   "outputs": [],
   "source": [
    "spark = pyspark.sql.SparkSession.builder.getOrCreate()"
   ]
  },
  {
   "attachments": {},
   "cell_type": "markdown",
   "metadata": {},
   "source": [
    "2 Data Structures:\n",
    "\n",
    "1. Resiliant Distributed Dataset (RDD)\n",
    "  - Low level\n",
    "  - List item\n",
    "  - Efficient but not as convenient as DFs\n",
    "  -Immutable\n",
    "  -Processed with Map, Filter, or Reduce\n",
    "  -Typically used to process linear data\n",
    "  - More difficult to use than DFs\n",
    "2. DataFrame"
   ]
  },
  {
   "cell_type": "code",
   "execution_count": null,
   "metadata": {},
   "outputs": [],
   "source": [
    "text = 'the quick brown fox jumped over the lazy dogs'\n",
    "lst = text.split()\n",
    "\n",
    "print(type(text), text)\n",
    "print(type(lst), lst)"
   ]
  },
  {
   "cell_type": "code",
   "execution_count": null,
   "metadata": {},
   "outputs": [],
   "source": [
    "text_rdd = spark.sparkContext.parallelize(text)\n",
    "print(type(text_rdd), text_rdd)\n",
    "print(type(text_rdd.collect()))"
   ]
  },
  {
   "cell_type": "code",
   "execution_count": null,
   "metadata": {},
   "outputs": [],
   "source": [
    "lst_rdd = spark.sparkContext.parallelize(lst)\n",
    "print(type(lst_rdd), lst_rdd)\n",
    "print(type(lst_rdd.collect()))"
   ]
  },
  {
   "cell_type": "code",
   "execution_count": null,
   "metadata": {},
   "outputs": [],
   "source": [
    "rdd = spark.sparkContext.textFile('<text url>')\n",
    "rdd.take(10)"
   ]
  },
  {
   "cell_type": "code",
   "execution_count": null,
   "metadata": {},
   "outputs": [],
   "source": [
    "rdd.count() #returns the total number of lines"
   ]
  },
  {
   "cell_type": "code",
   "execution_count": null,
   "metadata": {},
   "outputs": [],
   "source": [
    "rdd.distinct.count() #returns distinct number of lines"
   ]
  },
  {
   "cell_type": "code",
   "execution_count": null,
   "metadata": {},
   "outputs": [],
   "source": [
    "rdd.filter(lambda line: 'bee' in line.lower()).count()"
   ]
  }
 ],
 "metadata": {
  "language_info": {
   "name": "python"
  },
  "orig_nbformat": 4
 },
 "nbformat": 4,
 "nbformat_minor": 2
}
