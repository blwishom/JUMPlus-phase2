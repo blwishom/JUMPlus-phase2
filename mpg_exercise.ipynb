{
 "cells": [
  {
   "cell_type": "code",
   "execution_count": 57,
   "metadata": {},
   "outputs": [],
   "source": [
    "import pandas as pd\n",
    "import numpy as np\n",
    "import seaborn as sns\n",
    "import pyspark\n",
    "import pyspark.pandas as ps\n",
    "import pyspark.sql.functions as SparkSession\n",
    "from pyspark.sql.functions import min, max, desc, avg, round"
   ]
  },
  {
   "cell_type": "code",
   "execution_count": 3,
   "metadata": {},
   "outputs": [
    {
     "name": "stderr",
     "output_type": "stream",
     "text": [
      "your 131072x1 screen size is bogus. expect trouble\n",
      "23/05/17 16:26:15 WARN Utils: Your hostname, DESKTOP-685S3TT resolves to a loopback address: 127.0.1.1; using 172.20.241.155 instead (on interface eth0)\n",
      "23/05/17 16:26:15 WARN Utils: Set SPARK_LOCAL_IP if you need to bind to another address\n",
      "Setting default log level to \"WARN\".\n",
      "To adjust logging level use sc.setLogLevel(newLevel). For SparkR, use setLogLevel(newLevel).\n",
      "23/05/17 16:26:22 WARN NativeCodeLoader: Unable to load native-hadoop library for your platform... using builtin-java classes where applicable\n"
     ]
    }
   ],
   "source": [
    "spark = pyspark.sql.SparkSession.builder.getOrCreate()"
   ]
  },
  {
   "cell_type": "code",
   "execution_count": 4,
   "metadata": {},
   "outputs": [
    {
     "data": {
      "text/plain": [
       "['anagrams',\n",
       " 'anscombe',\n",
       " 'attention',\n",
       " 'brain_networks',\n",
       " 'car_crashes',\n",
       " 'diamonds',\n",
       " 'dots',\n",
       " 'dowjones',\n",
       " 'exercise',\n",
       " 'flights',\n",
       " 'fmri',\n",
       " 'geyser',\n",
       " 'glue',\n",
       " 'healthexp',\n",
       " 'iris',\n",
       " 'mpg',\n",
       " 'penguins',\n",
       " 'planets',\n",
       " 'seaice',\n",
       " 'taxis',\n",
       " 'tips',\n",
       " 'titanic']"
      ]
     },
     "execution_count": 4,
     "metadata": {},
     "output_type": "execute_result"
    }
   ],
   "source": [
    "sns.get_dataset_names()"
   ]
  },
  {
   "cell_type": "code",
   "execution_count": 5,
   "metadata": {},
   "outputs": [
    {
     "data": {
      "text/html": [
       "<div>\n",
       "<style scoped>\n",
       "    .dataframe tbody tr th:only-of-type {\n",
       "        vertical-align: middle;\n",
       "    }\n",
       "\n",
       "    .dataframe tbody tr th {\n",
       "        vertical-align: top;\n",
       "    }\n",
       "\n",
       "    .dataframe thead th {\n",
       "        text-align: right;\n",
       "    }\n",
       "</style>\n",
       "<table border=\"1\" class=\"dataframe\">\n",
       "  <thead>\n",
       "    <tr style=\"text-align: right;\">\n",
       "      <th></th>\n",
       "      <th>mpg</th>\n",
       "      <th>cylinders</th>\n",
       "      <th>displacement</th>\n",
       "      <th>horsepower</th>\n",
       "      <th>weight</th>\n",
       "      <th>acceleration</th>\n",
       "      <th>model_year</th>\n",
       "      <th>origin</th>\n",
       "      <th>name</th>\n",
       "    </tr>\n",
       "  </thead>\n",
       "  <tbody>\n",
       "    <tr>\n",
       "      <th>0</th>\n",
       "      <td>18.0</td>\n",
       "      <td>8</td>\n",
       "      <td>307.0</td>\n",
       "      <td>130.0</td>\n",
       "      <td>3504</td>\n",
       "      <td>12.0</td>\n",
       "      <td>70</td>\n",
       "      <td>usa</td>\n",
       "      <td>chevrolet chevelle malibu</td>\n",
       "    </tr>\n",
       "    <tr>\n",
       "      <th>1</th>\n",
       "      <td>15.0</td>\n",
       "      <td>8</td>\n",
       "      <td>350.0</td>\n",
       "      <td>165.0</td>\n",
       "      <td>3693</td>\n",
       "      <td>11.5</td>\n",
       "      <td>70</td>\n",
       "      <td>usa</td>\n",
       "      <td>buick skylark 320</td>\n",
       "    </tr>\n",
       "    <tr>\n",
       "      <th>2</th>\n",
       "      <td>18.0</td>\n",
       "      <td>8</td>\n",
       "      <td>318.0</td>\n",
       "      <td>150.0</td>\n",
       "      <td>3436</td>\n",
       "      <td>11.0</td>\n",
       "      <td>70</td>\n",
       "      <td>usa</td>\n",
       "      <td>plymouth satellite</td>\n",
       "    </tr>\n",
       "    <tr>\n",
       "      <th>3</th>\n",
       "      <td>16.0</td>\n",
       "      <td>8</td>\n",
       "      <td>304.0</td>\n",
       "      <td>150.0</td>\n",
       "      <td>3433</td>\n",
       "      <td>12.0</td>\n",
       "      <td>70</td>\n",
       "      <td>usa</td>\n",
       "      <td>amc rebel sst</td>\n",
       "    </tr>\n",
       "    <tr>\n",
       "      <th>4</th>\n",
       "      <td>17.0</td>\n",
       "      <td>8</td>\n",
       "      <td>302.0</td>\n",
       "      <td>140.0</td>\n",
       "      <td>3449</td>\n",
       "      <td>10.5</td>\n",
       "      <td>70</td>\n",
       "      <td>usa</td>\n",
       "      <td>ford torino</td>\n",
       "    </tr>\n",
       "  </tbody>\n",
       "</table>\n",
       "</div>"
      ],
      "text/plain": [
       "    mpg  cylinders  displacement  horsepower  weight  acceleration   \n",
       "0  18.0          8         307.0       130.0    3504          12.0  \\\n",
       "1  15.0          8         350.0       165.0    3693          11.5   \n",
       "2  18.0          8         318.0       150.0    3436          11.0   \n",
       "3  16.0          8         304.0       150.0    3433          12.0   \n",
       "4  17.0          8         302.0       140.0    3449          10.5   \n",
       "\n",
       "   model_year origin                       name  \n",
       "0          70    usa  chevrolet chevelle malibu  \n",
       "1          70    usa          buick skylark 320  \n",
       "2          70    usa         plymouth satellite  \n",
       "3          70    usa              amc rebel sst  \n",
       "4          70    usa                ford torino  "
      ]
     },
     "execution_count": 5,
     "metadata": {},
     "output_type": "execute_result"
    }
   ],
   "source": [
    "mpg_db = sns.load_dataset('mpg')\n",
    "mpg_db.head()"
   ]
  },
  {
   "cell_type": "code",
   "execution_count": 6,
   "metadata": {},
   "outputs": [
    {
     "name": "stderr",
     "output_type": "stream",
     "text": [
      "                                                                                \r"
     ]
    },
    {
     "name": "stdout",
     "output_type": "stream",
     "text": [
      "+----+---------+------------+----------+------+------------+----------+------+--------------------+\n",
      "| mpg|cylinders|displacement|horsepower|weight|acceleration|model_year|origin|                name|\n",
      "+----+---------+------------+----------+------+------------+----------+------+--------------------+\n",
      "|18.0|        8|       307.0|     130.0|  3504|        12.0|        70|   usa|chevrolet chevell...|\n",
      "|15.0|        8|       350.0|     165.0|  3693|        11.5|        70|   usa|   buick skylark 320|\n",
      "|18.0|        8|       318.0|     150.0|  3436|        11.0|        70|   usa|  plymouth satellite|\n",
      "|16.0|        8|       304.0|     150.0|  3433|        12.0|        70|   usa|       amc rebel sst|\n",
      "|17.0|        8|       302.0|     140.0|  3449|        10.5|        70|   usa|         ford torino|\n",
      "|15.0|        8|       429.0|     198.0|  4341|        10.0|        70|   usa|    ford galaxie 500|\n",
      "|14.0|        8|       454.0|     220.0|  4354|         9.0|        70|   usa|    chevrolet impala|\n",
      "|14.0|        8|       440.0|     215.0|  4312|         8.5|        70|   usa|   plymouth fury iii|\n",
      "|14.0|        8|       455.0|     225.0|  4425|        10.0|        70|   usa|    pontiac catalina|\n",
      "|15.0|        8|       390.0|     190.0|  3850|         8.5|        70|   usa|  amc ambassador dpl|\n",
      "|15.0|        8|       383.0|     170.0|  3563|        10.0|        70|   usa| dodge challenger se|\n",
      "|14.0|        8|       340.0|     160.0|  3609|         8.0|        70|   usa|  plymouth 'cuda 340|\n",
      "|15.0|        8|       400.0|     150.0|  3761|         9.5|        70|   usa|chevrolet monte c...|\n",
      "|14.0|        8|       455.0|     225.0|  3086|        10.0|        70|   usa|buick estate wago...|\n",
      "|24.0|        4|       113.0|      95.0|  2372|        15.0|        70| japan|toyota corona mar...|\n",
      "|22.0|        6|       198.0|      95.0|  2833|        15.5|        70|   usa|     plymouth duster|\n",
      "|18.0|        6|       199.0|      97.0|  2774|        15.5|        70|   usa|          amc hornet|\n",
      "|21.0|        6|       200.0|      85.0|  2587|        16.0|        70|   usa|       ford maverick|\n",
      "|27.0|        4|        97.0|      88.0|  2130|        14.5|        70| japan|        datsun pl510|\n",
      "|26.0|        4|        97.0|      46.0|  1835|        20.5|        70|europe|volkswagen 1131 d...|\n",
      "+----+---------+------------+----------+------+------------+----------+------+--------------------+\n",
      "only showing top 20 rows\n",
      "\n"
     ]
    }
   ],
   "source": [
    "mpg_df = spark.createDataFrame(mpg_db)\n",
    "mpg_df.show()"
   ]
  },
  {
   "cell_type": "code",
   "execution_count": 7,
   "metadata": {},
   "outputs": [
    {
     "name": "stderr",
     "output_type": "stream",
     "text": [
      "                                                                                \r"
     ]
    },
    {
     "name": "stdout",
     "output_type": "stream",
     "text": [
      "+-----------+\n",
      "|Highest_MPG|\n",
      "+-----------+\n",
      "|       46.6|\n",
      "+-----------+\n",
      "\n",
      "+----+---------+------------+----------+------+------------+----------+------+---------+\n",
      "| mpg|cylinders|displacement|horsepower|weight|acceleration|model_year|origin|     name|\n",
      "+----+---------+------------+----------+------+------------+----------+------+---------+\n",
      "|46.6|        4|        86.0|      65.0|  2110|        17.9|        80| japan|mazda glc|\n",
      "+----+---------+------------+----------+------+------------+----------+------+---------+\n",
      "\n",
      "+----------+\n",
      "|Lowest_MPG|\n",
      "+----------+\n",
      "|       9.0|\n",
      "+----------+\n",
      "\n",
      "+---+---------+------------+----------+------+------------+----------+------+--------+\n",
      "|mpg|cylinders|displacement|horsepower|weight|acceleration|model_year|origin|    name|\n",
      "+---+---------+------------+----------+------+------------+----------+------+--------+\n",
      "|9.0|        8|       304.0|     193.0|  4732|        18.5|        70|   usa|hi 1200d|\n",
      "+---+---------+------------+----------+------+------------+----------+------+--------+\n",
      "\n"
     ]
    }
   ],
   "source": [
    "# Question 1\n",
    "\n",
    "# # Pandas\n",
    "# highest_mpg = mpg_db.max()\n",
    "# lowest_mpg = mpg_db.min()\n",
    "# high_low = [highest_mpg, lowest_mpg]\n",
    "\n",
    "# high_low\n",
    "\n",
    "# # PySpark\n",
    "max_mpg_select = mpg_df.select(max(mpg_df.mpg).alias('Highest_MPG')).show()\n",
    "max_mpg_filter = mpg_df.filter(mpg_df.mpg > 46).show()\n",
    "\n",
    "min_mpg_select = mpg_df.select(min(mpg_df.mpg).alias('Lowest_MPG')).show()\n",
    "min_mpg_filter = mpg_df.filter(mpg_df.mpg <= 9).show()\n"
   ]
  },
  {
   "cell_type": "code",
   "execution_count": 8,
   "metadata": {},
   "outputs": [
    {
     "name": "stderr",
     "output_type": "stream",
     "text": [
      "                                                                                \r"
     ]
    },
    {
     "name": "stdout",
     "output_type": "stream",
     "text": [
      "+----+--------+--------------+-----------------+---------------+-----------+-----------------+---------------+\n",
      "| mpg|max(mpg)|max(cylinders)|max(displacement)|max(horsepower)|max(weight)|max(acceleration)|max(model_year)|\n",
      "+----+--------+--------------+-----------------+---------------+-----------+-----------------+---------------+\n",
      "|35.0|    35.0|             4|             72.0|           69.0|       1613|             18.0|             71|\n",
      "|18.0|    18.0|             8|            318.0|          150.0|       3785|             21.0|             76|\n",
      "|25.0|    25.0|             4|            140.0|            NaN|       2672|             19.0|             76|\n",
      "+----+--------+--------------+-----------------+---------------+-----------+-----------------+---------------+\n",
      "\n"
     ]
    },
    {
     "name": "stderr",
     "output_type": "stream",
     "text": [
      "                                                                                \r"
     ]
    },
    {
     "name": "stdout",
     "output_type": "stream",
     "text": [
      "+----+---------+------------+----------+------+------------+----------+------+---------+\n",
      "| mpg|cylinders|displacement|horsepower|weight|acceleration|model_year|origin|     name|\n",
      "+----+---------+------------+----------+------+------------+----------+------+---------+\n",
      "| 9.0|        8|       304.0|     193.0|  4732|        18.5|        70|   usa| hi 1200d|\n",
      "|10.0|        8|       360.0|     215.0|  4615|        14.0|        70|   usa|ford f250|\n",
      "|10.0|        8|       307.0|     200.0|  4376|        15.0|        70|   usa|chevy c20|\n",
      "+----+---------+------------+----------+------+------------+----------+------+---------+\n",
      "\n",
      "+----+--------+--------------+-----------------+---------------+-----------+-----------------+---------------+\n",
      "| mpg|max(mpg)|max(cylinders)|max(displacement)|max(horsepower)|max(weight)|max(acceleration)|max(model_year)|\n",
      "+----+--------+--------------+-----------------+---------------+-----------+-----------------+---------------+\n",
      "|32.3|    32.3|             4|             97.0|           67.0|       2065|             17.8|             81|\n",
      "|26.4|    26.4|             4|            140.0|           88.0|       2870|             18.1|             80|\n",
      "|26.6|    26.6|             8|            350.0|          105.0|       3725|             19.0|             81|\n",
      "+----+--------+--------------+-----------------+---------------+-----------+-----------------+---------------+\n",
      "\n",
      "+----+---------+------------+----------+------+------------+----------+------+--------------------+\n",
      "| mpg|cylinders|displacement|horsepower|weight|acceleration|model_year|origin|                name|\n",
      "+----+---------+------------+----------+------+------------+----------+------+--------------------+\n",
      "|17.6|        6|       225.0|      85.0|  3465|        16.6|        81|   usa|chrysler lebaron ...|\n",
      "|19.1|        6|       225.0|      90.0|  3381|        18.7|        80|   usa|         dodge aspen|\n",
      "|20.2|        6|       200.0|      88.0|  3060|        17.1|        81|   usa|     ford granada gl|\n",
      "+----+---------+------------+----------+------+------------+----------+------+--------------------+\n",
      "\n"
     ]
    }
   ],
   "source": [
    "# Question 2\n",
    "mpg_db['model_year'].unique()\n",
    "\n",
    "# # Pandas\n",
    "# car70s = mpg_db[mpg_db['model_year'] < 80]\n",
    "# car70s.max()\n",
    "# car70s.min()\n",
    "# car70sMinMax = [car70s.min(), car70s.max()]\n",
    "# car70sMinMax\n",
    "\n",
    "# car80s = mpg_db[mpg_db['model_year'] >= 80]\n",
    "# car80s.max()\n",
    "# car80s.min()\n",
    "# car80sMinMax = [car80s.min(), car80s.max()]\n",
    "\n",
    "# concat70s = pd.concat(car70sMinMax)\n",
    "# concat80s = pd.concat(car80sMinMax)\n",
    "\n",
    "# pd.concat([concat70s, concat80s])\n",
    "\n",
    "# PySpark\n",
    "car70s = mpg_df.filter(mpg_df.model_year < 80)\n",
    "car70sMaxMPG = car70s.groupBy('mpg').max().limit(3)\n",
    "car70sMaxMPG.show()\n",
    "\n",
    "\n",
    "car70sMinMPG = car70s.sort('mpg').limit(3)\n",
    "car70sMinMPG.show()\n",
    "\n",
    "car80s = mpg_df.filter(mpg_df.model_year >= 80)\n",
    "car80sMaxMPG = car80s.groupBy('mpg').max().limit(3)\n",
    "car80sMaxMPG.show()\n",
    "\n",
    "car80sMinMPG = car80s.sort('mpg').limit(3)\n",
    "car80sMinMPG.show()"
   ]
  },
  {
   "cell_type": "code",
   "execution_count": 63,
   "metadata": {},
   "outputs": [
    {
     "name": "stdout",
     "output_type": "stream",
     "text": [
      "+------+\n",
      "|origin|\n",
      "+------+\n",
      "| japan|\n",
      "|europe|\n",
      "|   usa|\n",
      "+------+\n",
      "\n",
      "+------+------------------+\n",
      "|origin|       avg(weight)|\n",
      "+------+------------------+\n",
      "| japan| 2221.227848101266|\n",
      "|europe|            2423.3|\n",
      "|   usa|3361.9317269076305|\n",
      "+------+------------------+\n",
      "\n"
     ]
    }
   ],
   "source": [
    "mpg_df.select(mpg_df.origin).distinct().show()\n",
    "\n",
    "# avg_weight = mpg_df.select(avg(mpg_df.weight)).show()\n",
    "\n",
    "# japan = mpg_df.filter(mpg_df.origin == 'japan').show()\n",
    "# europe = mpg_df.filter(mpg_df.origin == 'europe').show()\n",
    "# usa = mpg_df.filter(mpg_df.origin == 'usa').show()\n",
    "\n",
    "mpg_df.groupby('origin').avg('weight').show()"
   ]
  },
  {
   "cell_type": "code",
   "execution_count": 66,
   "metadata": {},
   "outputs": [
    {
     "name": "stdout",
     "output_type": "stream",
     "text": [
      "+---------+\n",
      "|cylinders|\n",
      "+---------+\n",
      "|        6|\n",
      "|        3|\n",
      "|        8|\n",
      "|        4|\n",
      "|        5|\n",
      "+---------+\n",
      "\n",
      "+---------+------------------+\n",
      "|cylinders|          avg(mpg)|\n",
      "+---------+------------------+\n",
      "|        6|19.985714285714288|\n",
      "|        3|             20.55|\n",
      "|        8|14.963106796116506|\n",
      "|        4| 29.28676470588235|\n",
      "|        5|27.366666666666664|\n",
      "+---------+------------------+\n",
      "\n"
     ]
    }
   ],
   "source": [
    "mpg_df.select(mpg_df.cylinders).distinct().show()\n",
    "\n",
    "mpg_df.groupby('cylinders').avg('mpg').show()"
   ]
  },
  {
   "cell_type": "code",
   "execution_count": 82,
   "metadata": {},
   "outputs": [
    {
     "name": "stdout",
     "output_type": "stream",
     "text": [
      "+------+------------------+\n",
      "|origin|          avg(mpg)|\n",
      "+------+------------------+\n",
      "| japan|30.450632911392404|\n",
      "|europe|27.891428571428573|\n",
      "|   usa|20.083534136546188|\n",
      "+------+------------------+\n",
      "\n",
      "+----------+------------------+\n",
      "|model_year|          avg(mpg)|\n",
      "+----------+------------------+\n",
      "|        71|             21.25|\n",
      "|        72|18.714285714285715|\n",
      "|        73|              17.1|\n",
      "|        70|17.689655172413794|\n",
      "|        74|22.703703703703702|\n",
      "|        76|21.573529411764707|\n",
      "|        75|20.266666666666666|\n",
      "|        77|            23.375|\n",
      "|        79|25.093103448275862|\n",
      "|        78|24.061111111111114|\n",
      "|        80|33.696551724137926|\n",
      "|        81| 30.33448275862069|\n",
      "|        82| 31.70967741935484|\n",
      "+----------+------------------+\n",
      "\n"
     ]
    }
   ],
   "source": [
    "mpg_df.groupby('origin').avg('mpg').show()\n",
    "mpg_df.groupby('model_year').avg('mpg').show()"
   ]
  }
 ],
 "metadata": {
  "kernelspec": {
   "display_name": "Python 3",
   "language": "python",
   "name": "python3"
  },
  "language_info": {
   "codemirror_mode": {
    "name": "ipython",
    "version": 3
   },
   "file_extension": ".py",
   "mimetype": "text/x-python",
   "name": "python",
   "nbconvert_exporter": "python",
   "pygments_lexer": "ipython3",
   "version": "3.9.4"
  },
  "orig_nbformat": 4
 },
 "nbformat": 4,
 "nbformat_minor": 2
}
