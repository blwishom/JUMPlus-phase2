{
 "cells": [
  {
   "cell_type": "code",
   "execution_count": 1,
   "metadata": {},
   "outputs": [],
   "source": [
    "import pandas as pd, sqlite3 as s3"
   ]
  },
  {
   "cell_type": "code",
   "execution_count": 2,
   "metadata": {},
   "outputs": [],
   "source": [
    "conn = s3.connect(\"archive (2)/database.sqlite\")\n",
    "# c = conn.execute(\"select * from player\")\n",
    "# for l in c: print(l)"
   ]
  },
  {
   "cell_type": "code",
   "execution_count": 3,
   "metadata": {},
   "outputs": [
    {
     "data": {
      "text/html": [
       "<div>\n",
       "<style scoped>\n",
       "    .dataframe tbody tr th:only-of-type {\n",
       "        vertical-align: middle;\n",
       "    }\n",
       "\n",
       "    .dataframe tbody tr th {\n",
       "        vertical-align: top;\n",
       "    }\n",
       "\n",
       "    .dataframe thead th {\n",
       "        text-align: right;\n",
       "    }\n",
       "</style>\n",
       "<table border=\"1\" class=\"dataframe\">\n",
       "  <thead>\n",
       "    <tr style=\"text-align: right;\">\n",
       "      <th></th>\n",
       "      <th>Player_Name</th>\n",
       "      <th>DOB</th>\n",
       "      <th>Batting_hand</th>\n",
       "      <th>Bowling_skill</th>\n",
       "      <th>Country_Name</th>\n",
       "    </tr>\n",
       "    <tr>\n",
       "      <th>Player_Id</th>\n",
       "      <th></th>\n",
       "      <th></th>\n",
       "      <th></th>\n",
       "      <th></th>\n",
       "      <th></th>\n",
       "    </tr>\n",
       "  </thead>\n",
       "  <tbody>\n",
       "    <tr>\n",
       "      <th>1</th>\n",
       "      <td>SC Ganguly</td>\n",
       "      <td>1972-07-08</td>\n",
       "      <td>1</td>\n",
       "      <td>1.0</td>\n",
       "      <td>1</td>\n",
       "    </tr>\n",
       "    <tr>\n",
       "      <th>2</th>\n",
       "      <td>BB McCullum</td>\n",
       "      <td>1981-09-27</td>\n",
       "      <td>2</td>\n",
       "      <td>1.0</td>\n",
       "      <td>4</td>\n",
       "    </tr>\n",
       "    <tr>\n",
       "      <th>3</th>\n",
       "      <td>RT Ponting</td>\n",
       "      <td>1974-12-19</td>\n",
       "      <td>2</td>\n",
       "      <td>1.0</td>\n",
       "      <td>5</td>\n",
       "    </tr>\n",
       "    <tr>\n",
       "      <th>4</th>\n",
       "      <td>DJ Hussey</td>\n",
       "      <td>1977-07-15</td>\n",
       "      <td>2</td>\n",
       "      <td>2.0</td>\n",
       "      <td>5</td>\n",
       "    </tr>\n",
       "    <tr>\n",
       "      <th>5</th>\n",
       "      <td>Mohammad Hafeez</td>\n",
       "      <td>1980-10-17</td>\n",
       "      <td>2</td>\n",
       "      <td>2.0</td>\n",
       "      <td>6</td>\n",
       "    </tr>\n",
       "  </tbody>\n",
       "</table>\n",
       "</div>"
      ],
      "text/plain": [
       "               Player_Name        DOB  Batting_hand  Bowling_skill   \n",
       "Player_Id                                                            \n",
       "1               SC Ganguly 1972-07-08             1            1.0  \\\n",
       "2              BB McCullum 1981-09-27             2            1.0   \n",
       "3               RT Ponting 1974-12-19             2            1.0   \n",
       "4                DJ Hussey 1977-07-15             2            2.0   \n",
       "5          Mohammad Hafeez 1980-10-17             2            2.0   \n",
       "\n",
       "           Country_Name  \n",
       "Player_Id                \n",
       "1                     1  \n",
       "2                     4  \n",
       "3                     5  \n",
       "4                     5  \n",
       "5                     6  "
      ]
     },
     "execution_count": 3,
     "metadata": {},
     "output_type": "execute_result"
    }
   ],
   "source": [
    "player_df = pd.read_sql_query(\"select * from player\", conn)\n",
    "player_df[\"DOB\"] = pd.to_datetime(player_df[\"DOB\"])\n",
    "player_df.set_index(\"Player_Id\", inplace=True)\n",
    "\n",
    "player_df.head()"
   ]
  },
  {
   "cell_type": "code",
   "execution_count": 4,
   "metadata": {},
   "outputs": [
    {
     "data": {
      "text/plain": [
       "Player_Name      0\n",
       "DOB              0\n",
       "Batting_hand     0\n",
       "Bowling_skill    0\n",
       "Country_Name     0\n",
       "dtype: int64"
      ]
     },
     "execution_count": 4,
     "metadata": {},
     "output_type": "execute_result"
    }
   ],
   "source": [
    "player_df.fillna({\"Bowling_skill\":0}, inplace=True)\n",
    "player_df.isnull().sum()"
   ]
  },
  {
   "cell_type": "code",
   "execution_count": 5,
   "metadata": {},
   "outputs": [
    {
     "data": {
      "text/plain": [
       "0"
      ]
     },
     "execution_count": 5,
     "metadata": {},
     "output_type": "execute_result"
    }
   ],
   "source": [
    "player_df.duplicated().sum()"
   ]
  },
  {
   "cell_type": "code",
   "execution_count": 6,
   "metadata": {},
   "outputs": [],
   "source": [
    "country_df = pd.read_sql_query(\"select * from country\", conn)"
   ]
  },
  {
   "cell_type": "code",
   "execution_count": 7,
   "metadata": {},
   "outputs": [
    {
     "data": {
      "text/html": [
       "<div>\n",
       "<style scoped>\n",
       "    .dataframe tbody tr th:only-of-type {\n",
       "        vertical-align: middle;\n",
       "    }\n",
       "\n",
       "    .dataframe tbody tr th {\n",
       "        vertical-align: top;\n",
       "    }\n",
       "\n",
       "    .dataframe thead th {\n",
       "        text-align: right;\n",
       "    }\n",
       "</style>\n",
       "<table border=\"1\" class=\"dataframe\">\n",
       "  <thead>\n",
       "    <tr style=\"text-align: right;\">\n",
       "      <th></th>\n",
       "      <th>Country_Name</th>\n",
       "    </tr>\n",
       "    <tr>\n",
       "      <th>Country_Id</th>\n",
       "      <th></th>\n",
       "    </tr>\n",
       "  </thead>\n",
       "  <tbody>\n",
       "    <tr>\n",
       "      <th>1</th>\n",
       "      <td>India</td>\n",
       "    </tr>\n",
       "    <tr>\n",
       "      <th>2</th>\n",
       "      <td>South Africa</td>\n",
       "    </tr>\n",
       "    <tr>\n",
       "      <th>3</th>\n",
       "      <td>U.A.E</td>\n",
       "    </tr>\n",
       "    <tr>\n",
       "      <th>4</th>\n",
       "      <td>New Zealand</td>\n",
       "    </tr>\n",
       "    <tr>\n",
       "      <th>5</th>\n",
       "      <td>Australia</td>\n",
       "    </tr>\n",
       "  </tbody>\n",
       "</table>\n",
       "</div>"
      ],
      "text/plain": [
       "            Country_Name\n",
       "Country_Id              \n",
       "1                  India\n",
       "2           South Africa\n",
       "3                  U.A.E\n",
       "4            New Zealand\n",
       "5              Australia"
      ]
     },
     "execution_count": 7,
     "metadata": {},
     "output_type": "execute_result"
    }
   ],
   "source": [
    "country_df.set_index(\"Country_Id\", inplace=True)\n",
    "country_df.head()"
   ]
  },
  {
   "cell_type": "code",
   "execution_count": 8,
   "metadata": {},
   "outputs": [
    {
     "data": {
      "text/html": [
       "<div>\n",
       "<style scoped>\n",
       "    .dataframe tbody tr th:only-of-type {\n",
       "        vertical-align: middle;\n",
       "    }\n",
       "\n",
       "    .dataframe tbody tr th {\n",
       "        vertical-align: top;\n",
       "    }\n",
       "\n",
       "    .dataframe thead th {\n",
       "        text-align: right;\n",
       "    }\n",
       "</style>\n",
       "<table border=\"1\" class=\"dataframe\">\n",
       "  <thead>\n",
       "    <tr style=\"text-align: right;\">\n",
       "      <th></th>\n",
       "      <th>Player_Name</th>\n",
       "      <th>DOB</th>\n",
       "      <th>Batting_hand</th>\n",
       "      <th>Bowling_skill</th>\n",
       "      <th>Country_Name</th>\n",
       "    </tr>\n",
       "    <tr>\n",
       "      <th>Player_Id</th>\n",
       "      <th></th>\n",
       "      <th></th>\n",
       "      <th></th>\n",
       "      <th></th>\n",
       "      <th></th>\n",
       "    </tr>\n",
       "  </thead>\n",
       "  <tbody>\n",
       "    <tr>\n",
       "      <th>1</th>\n",
       "      <td>SC Ganguly</td>\n",
       "      <td>1972-07-08</td>\n",
       "      <td>1</td>\n",
       "      <td>1.0</td>\n",
       "      <td>India</td>\n",
       "    </tr>\n",
       "    <tr>\n",
       "      <th>2</th>\n",
       "      <td>BB McCullum</td>\n",
       "      <td>1981-09-27</td>\n",
       "      <td>2</td>\n",
       "      <td>1.0</td>\n",
       "      <td>South Africa</td>\n",
       "    </tr>\n",
       "    <tr>\n",
       "      <th>3</th>\n",
       "      <td>RT Ponting</td>\n",
       "      <td>1974-12-19</td>\n",
       "      <td>2</td>\n",
       "      <td>1.0</td>\n",
       "      <td>U.A.E</td>\n",
       "    </tr>\n",
       "    <tr>\n",
       "      <th>4</th>\n",
       "      <td>DJ Hussey</td>\n",
       "      <td>1977-07-15</td>\n",
       "      <td>2</td>\n",
       "      <td>2.0</td>\n",
       "      <td>New Zealand</td>\n",
       "    </tr>\n",
       "    <tr>\n",
       "      <th>5</th>\n",
       "      <td>Mohammad Hafeez</td>\n",
       "      <td>1980-10-17</td>\n",
       "      <td>2</td>\n",
       "      <td>2.0</td>\n",
       "      <td>Australia</td>\n",
       "    </tr>\n",
       "  </tbody>\n",
       "</table>\n",
       "</div>"
      ],
      "text/plain": [
       "               Player_Name        DOB  Batting_hand  Bowling_skill   \n",
       "Player_Id                                                            \n",
       "1               SC Ganguly 1972-07-08             1            1.0  \\\n",
       "2              BB McCullum 1981-09-27             2            1.0   \n",
       "3               RT Ponting 1974-12-19             2            1.0   \n",
       "4                DJ Hussey 1977-07-15             2            2.0   \n",
       "5          Mohammad Hafeez 1980-10-17             2            2.0   \n",
       "\n",
       "           Country_Name  \n",
       "Player_Id                \n",
       "1                 India  \n",
       "2          South Africa  \n",
       "3                 U.A.E  \n",
       "4           New Zealand  \n",
       "5             Australia  "
      ]
     },
     "execution_count": 8,
     "metadata": {},
     "output_type": "execute_result"
    }
   ],
   "source": [
    "pc_df = player_df.join(country_df, lsuffix=\"Country_Name\", rsuffix=\"Country_Id\")\n",
    "player_df[\"Country_Name\"] = pc_df[\"Country_NameCountry_Id\"]\n",
    "player_df.head()"
   ]
  },
  {
   "cell_type": "code",
   "execution_count": 9,
   "metadata": {},
   "outputs": [
    {
     "data": {
      "text/html": [
       "<div>\n",
       "<style scoped>\n",
       "    .dataframe tbody tr th:only-of-type {\n",
       "        vertical-align: middle;\n",
       "    }\n",
       "\n",
       "    .dataframe tbody tr th {\n",
       "        vertical-align: top;\n",
       "    }\n",
       "\n",
       "    .dataframe thead th {\n",
       "        text-align: right;\n",
       "    }\n",
       "</style>\n",
       "<table border=\"1\" class=\"dataframe\">\n",
       "  <thead>\n",
       "    <tr style=\"text-align: right;\">\n",
       "      <th></th>\n",
       "      <th>Player_Name</th>\n",
       "      <th>DOB</th>\n",
       "      <th>Batting_hand</th>\n",
       "      <th>Bowling_skill</th>\n",
       "      <th>Country_Name</th>\n",
       "    </tr>\n",
       "    <tr>\n",
       "      <th>Player_Id</th>\n",
       "      <th></th>\n",
       "      <th></th>\n",
       "      <th></th>\n",
       "      <th></th>\n",
       "      <th></th>\n",
       "    </tr>\n",
       "  </thead>\n",
       "  <tbody>\n",
       "    <tr>\n",
       "      <th>1</th>\n",
       "      <td>SC Ganguly</td>\n",
       "      <td>1972-07-08</td>\n",
       "      <td>Right</td>\n",
       "      <td>1.0</td>\n",
       "      <td>India</td>\n",
       "    </tr>\n",
       "    <tr>\n",
       "      <th>2</th>\n",
       "      <td>BB McCullum</td>\n",
       "      <td>1981-09-27</td>\n",
       "      <td>Left</td>\n",
       "      <td>1.0</td>\n",
       "      <td>South Africa</td>\n",
       "    </tr>\n",
       "    <tr>\n",
       "      <th>3</th>\n",
       "      <td>RT Ponting</td>\n",
       "      <td>1974-12-19</td>\n",
       "      <td>Left</td>\n",
       "      <td>1.0</td>\n",
       "      <td>U.A.E</td>\n",
       "    </tr>\n",
       "    <tr>\n",
       "      <th>4</th>\n",
       "      <td>DJ Hussey</td>\n",
       "      <td>1977-07-15</td>\n",
       "      <td>Left</td>\n",
       "      <td>2.0</td>\n",
       "      <td>New Zealand</td>\n",
       "    </tr>\n",
       "    <tr>\n",
       "      <th>5</th>\n",
       "      <td>Mohammad Hafeez</td>\n",
       "      <td>1980-10-17</td>\n",
       "      <td>Left</td>\n",
       "      <td>2.0</td>\n",
       "      <td>Australia</td>\n",
       "    </tr>\n",
       "  </tbody>\n",
       "</table>\n",
       "</div>"
      ],
      "text/plain": [
       "               Player_Name        DOB Batting_hand  Bowling_skill   \n",
       "Player_Id                                                           \n",
       "1               SC Ganguly 1972-07-08        Right            1.0  \\\n",
       "2              BB McCullum 1981-09-27         Left            1.0   \n",
       "3               RT Ponting 1974-12-19         Left            1.0   \n",
       "4                DJ Hussey 1977-07-15         Left            2.0   \n",
       "5          Mohammad Hafeez 1980-10-17         Left            2.0   \n",
       "\n",
       "           Country_Name  \n",
       "Player_Id                \n",
       "1                 India  \n",
       "2          South Africa  \n",
       "3                 U.A.E  \n",
       "4           New Zealand  \n",
       "5             Australia  "
      ]
     },
     "execution_count": 9,
     "metadata": {},
     "output_type": "execute_result"
    }
   ],
   "source": [
    "player_df[\"Batting_hand\"] = player_df[\"Batting_hand\"].replace(1, \"Right\").replace(2, \"Left\")\n",
    "player_df.head()"
   ]
  },
  {
   "cell_type": "code",
   "execution_count": 10,
   "metadata": {},
   "outputs": [],
   "source": [
    "player_df.to_csv(\"player.csv\")"
   ]
  }
 ],
 "metadata": {
  "kernelspec": {
   "display_name": "Python 3",
   "language": "python",
   "name": "python3"
  },
  "language_info": {
   "codemirror_mode": {
    "name": "ipython",
    "version": 3
   },
   "file_extension": ".py",
   "mimetype": "text/x-python",
   "name": "python",
   "nbconvert_exporter": "python",
   "pygments_lexer": "ipython3",
   "version": "3.10.6"
  },
  "orig_nbformat": 4
 },
 "nbformat": 4,
 "nbformat_minor": 2
}
